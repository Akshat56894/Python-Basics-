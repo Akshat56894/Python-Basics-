
      "source": [
        "# Python Basics"
      ],
      "metadata": {
        "id": "NxsDCjVccOls"
      },
      "id": "NxsDCjVccOls"
    },
    {
      "cell_type": "markdown",
      "source": [
        "1.What is Python, And why is it popular ?\n",
        "   - Python's a programming language that's easy to read and write. It's super popular because it's like a universal tool – good for everything from websites to data analysis – and it's easy for beginners to pick up. Plus, there's a ton of pre-made stuff you can use, so you don't have to build everything from scratch.\n",
        "   Python is a coding language designed to be easy to read and use.\n",
        "\n",
        "   It's popular because it's like a universal tool, you can build websites, analyze huge amounts of data, automate boring tasks, and even power AI. Plus, it's pretty straightforward to learn, has a huge helpful community, and comes with tons of pre-built components that make coding faster.\n",
        "\n",
        "2. What is an interpreter in python ?\n",
        "  - It's the program that runs your Python code. You write the instructions, and the interpreter translates and executes them line by line, on the fly. No need for a separate \"build\" step like some other languages.\n",
        "\n",
        "3. What are pre-defined keywords in python ?\n",
        "  - In Python, \"predefined keywords\" are exactly like that. They're words that Python already has a specific meaning for. You can't use them to name your variables, functions, or anything else you create. They're reserved for the language's own rules and operations.\n",
        "\n",
        "Some common ones are:\n",
        "\n",
        "if, else, elif: For making decisions.\n",
        "for, while: For repeating things (loops).\n",
        "def: To define a function (a block of reusable code).\n",
        "class: To define your own custom \"types\" of things (objects).\n",
        "import: To bring in code from other files.\n",
        "True, False: For \"yes\" or \"no\" answers.\n",
        "None: For \"nothing\" or \"no value.\"\n",
        "There are about 35 of these special words, and they're crucial for how Python works.\n",
        "\n",
        "4. Can keywords be used as variable names ?\n",
        "  - Nope, we can't. Python keywords are like reserved seats – they already have a job and a special meaning to the language. If we try to use one as a variable name, Python will get confused and throw an error.\n",
        "\n",
        "5. What is mutability in python ?\n",
        "  - Mutability in Python is very simple, If something is mutable, you can change it after you create it. Think of it like a whiteboard – you can erase and write new things on it. Lists and dictionaries are good examples.  \n",
        "\n",
        "6. Why are lists mutable but tuples are immutable ?\n",
        "  - Tuples are immutable, meaning that once you define a tuple, its\n",
        "  individual elements cannot be changed or swapped out for new values. Conversely, lists are mutable, allowing you to freely modify, add, or remove their elements at any time. This fundamental difference has a key implication for dictionaries: since only immutable objects can serve as dictionary keys (ensuring the key's value remains constant for consistent lookup), tuples are eligible to be used as keys, while lists are not.\n",
        "\n",
        "7. What is the difference between \"==\" and \"is\" operators in python ?  \n",
        "  - \"==\" (equals): \"Are the contents the same?\" It checks if the values\n",
        "     of two things are identical.\n",
        "     \"is\" (identity): \"Are they the exact same thing in memory?\" It checks if two variables point to the very same object.\n",
        "     So, two different shirts can be \"==\" (equal) if they're both blue, size large. But they are only \"is\" (identical) if it's literally the one and only blue, size large shirt you own.\n",
        "\n",
        "8. What are logical operators in python ?\n",
        "  - Logical operators in Python are basically ways to combine or modify true/false statements.\n",
        "  Logical operators in Python are words like and, or, and not.\n",
        "  They're used to combine or modify true/false statements.\n",
        "\n",
        "   and: True only if both sides are true.\n",
        "   or: True if at least one side is true.\n",
        "   not: Returns the opposite boolean value of the operand.\n",
        "   If the operand is True, it returns False, and vice versa.\n",
        "\n",
        "9. What is type casting in python ?\n",
        "  - It's basically changing something from one type to another. Like turning a number into text, or text that looks like a number into an actual number so you can do math with it.   \n",
        "\n",
        "10. What is the difference between implicit and explicit type casting ?\n",
        "   - Implicit: Python does it automatically behind the scenes to avoid\n",
        "     problems (like when you add an integer and a float, the integer becomes a float).\n",
        "     Explicit: You specifically tell Python to change the type using functions like int(), str(), float(). You're in control, even if it means potential data loss (like turning 3.9 into 3).\n",
        "\n",
        "11. What is the purpose of conditional statements in python ?\n",
        "   - We give it a condition (like \"if it's raining\"), and if that condition is true, it runs a specific block of code. If it's false, it either skips that block or runs a different one. It's how your program responds differently to different situations.\n",
        "     Conditional statements let your Python program make decisions.\n",
        "\n",
        "   They allow your code to choose different paths or do different things based on whether a certain condition is true or false. It's how programs react to various situations, like \"if this happens, then do that; otherwise, do something else.\"\n",
        "\n",
        "12. How does the Elif statement work ?\n",
        "   - The elif statement is like saying, \"Okay, if the first condition wasn't true, then check if this other condition is true.\"\n",
        "\n",
        "   It's a way to test multiple possibilities in order, one after another, until one of them is met. If an elif condition is true, its code runs, and the rest of the checks are skipped.\n",
        "   elif is short for \"else if.\"\n",
        "\n",
        "   It's used when you have multiple conditions to check, one after another.\n",
        "   Python checks the first if statement. If that's false, it then checks the first elif. If that's false, it moves to the next elif, and so on. It stops at the first one that's true and runs its code, then skips the rest. If none of them are true, it'll run the else part (if there is one).   \n",
        "\n",
        "13. What is the difference between For and While loops ?\n",
        "   - for loop: Use when you know how many times you want to repeat, or when you want to go through each item in a collection (like a list). It's for iterating over a sequence.\n",
        "\n",
        "   while loop: Use when you want to repeat as long as a certain condition remains true. You don't necessarily know the exact number of repetitions beforehand. It keeps going until its condition becomes false.\n",
        "\n",
        "14. Describe a scenario where a while loop is more suitable than a for loop.              \n",
        "   - A while loop is better when you're waiting for something specific to happen, and you don't know how many tries it will take. Like repeatedly asking a user for input until they give you a valid answer.\n",
        "   When you need to keep doing something until a specific condition is met, and you don't know in advance how many times that will take.\n",
        "\n",
        "\n",
        "\n",
        "\n",
        "\n",
        "\n",
        "  "
      ],
      "metadata": {
        "id": "OPp5cCblaKbf"
      },
      "id": "OPp5cCblaKbf"
    },
    {
      "cell_type": "code",
      "source": [
        "# 1.Write a python program to print \"Hello, World!\"\n",
        "print(\"Hello, World!\")"
      ],
      "metadata": {
        "colab": {
          "base_uri": "https://localhost:8080/"
        },
        "id": "sfFgvLfc2SwB",
        "outputId": "9271b823-afc2-48d3-aa76-d0fd0aa61d6f"
      },
      "id": "sfFgvLfc2SwB",
      "execution_count": 2,
      "outputs": [
        {
          "output_type": "stream",
          "name": "stdout",
          "text": [
            "Hello, World!\n"
          ]
        }
      ]
    },
    {
      "cell_type": "code",
      "source": [
        "# 2.Write a pyhton program that displays your name and age\n",
        "print(\"Name:\", \"Akshat\")\n",
        "print(\"Age:\", 20)"
      ],
      "metadata": {
        "id": "9wiUnTiw_0iN",
        "outputId": "5248c231-3c82-45c4-ef7e-785ab722a9cb",
        "colab": {
          "base_uri": "https://localhost:8080/"
        }
      },
      "id": "9wiUnTiw_0iN",
      "execution_count": 4,
      "outputs": [
        {
          "output_type": "stream",
          "name": "stdout",
          "text": [
            "Name: Akshat\n",
            "Age: 20\n"
          ]
        }
      ]
    },
    {
      "cell_type": "code",
      "source": [
        "# 3.Write code to print all the pre-defined keywords in python using the keywords library\n",
        "import keyword\n",
        "print(keyword.kwlist)"
      ],
      "metadata": {
        "id": "FmLIhgksAg-H",
        "outputId": "08d1b622-c042-4d00-9f19-9563d50f3869",
        "colab": {
          "base_uri": "https://localhost:8080/"
        }
      },
      "id": "FmLIhgksAg-H",
      "execution_count": 6,
      "outputs": [
        {
          "output_type": "stream",
          "name": "stdout",
          "text": [
            "['False', 'None', 'True', 'and', 'as', 'assert', 'async', 'await', 'break', 'class', 'continue', 'def', 'del', 'elif', 'else', 'except', 'finally', 'for', 'from', 'global', 'if', 'import', 'in', 'is', 'lambda', 'nonlocal', 'not', 'or', 'pass', 'raise', 'return', 'try', 'while', 'with', 'yield']\n"
          ]
        }
      ]
    },
    {
      "cell_type": "code",
      "source": [
        "# 4.Write a program that checks if a given word is a python keyword\n",
        "import keyword\n",
        "\n",
        "s = 'for'\n",
        "\n",
        "# Check if it's a Python keyword\n",
        "if keyword.iskeyword(s):\n",
        "    print(f\"'{s}' is a Python keyword.\")\n",
        "else:\n",
        "    print(f\"'{s}' is not a Python keyword.\")"
      ],
      "metadata": {
        "id": "NA12-ugVBZgJ",
        "outputId": "cd3295d9-3f76-402f-a401-983c18f2290c",
        "colab": {
          "base_uri": "https://localhost:8080/"
        }
      },
      "id": "NA12-ugVBZgJ",
      "execution_count": 9,
      "outputs": [
        {
          "output_type": "stream",
          "name": "stdout",
          "text": [
            "'for' is a Python keyword.\n"
          ]
        }
      ]
    },
    {
      "cell_type": "code",
      "source": [
        "# 6.Write a function to demonstrate the behavior of mutable and immutable arguments\n",
        "immutable_val = 10\n",
        "mutable_val = [1, 2, 3]\n",
        "\n",
        "print(\"Before function call:\")\n",
        "print(f\"  immutable_val: {immutable_val}, id: {id(immutable_val)}\")\n",
        "print(f\"  mutable_val: {mutable_val}, id: {id(mutable_val)}\")"
      ],
      "metadata": {
        "id": "9qb51hoAFe9O",
        "outputId": "62cc50cb-bb4f-45c0-fd9a-eb84732df403",
        "colab": {
          "base_uri": "https://localhost:8080/"
        }
      },
      "id": "9qb51hoAFe9O",
      "execution_count": 10,
      "outputs": [
        {
          "output_type": "stream",
          "name": "stdout",
          "text": [
            "Before function call:\n",
            "  immutable_val: 10, id: 10758024\n",
            "  mutable_val: [1, 2, 3], id: 134054053263872\n"
          ]
        }
      ]
    },
    {
      "cell_type": "code",
      "source": [
        "# 7.write a program that performs basic arithmetic operations on two user-input numbers\n",
        "a = 4\n",
        "b = 2\n",
        "sum=a+b\n",
        "print(sum)\n",
        "sum=a-b\n",
        "print(sum)\n",
        "sum=a*b\n",
        "print(sum)\n",
        "sum=a/b\n",
        "print(sum)"
      ],
      "metadata": {
        "id": "8F3eb99cHWRS",
        "outputId": "08387ca5-fce3-4032-b6bb-5eac151d6e30",
        "colab": {
          "base_uri": "https://localhost:8080/"
        }
      },
      "id": "8F3eb99cHWRS",
      "execution_count": 21,
      "outputs": [
        {
          "output_type": "stream",
          "name": "stdout",
          "text": [
            "6\n",
            "2\n",
            "8\n",
            "2.0\n"
          ]
        }
      ]
    },
    {
      "cell_type": "code",
      "source": [
        "# 8.Write a program to demonstrate the use of logical operators\n",
        "# Logical AND (and)\n",
        "# Returns True if both operands are True, False otherwise\n",
        "x = 5\n",
        "y = 10\n",
        "print(x > 0 and y < 20) # Output: True\n",
        "print(x > 10 and y < 20) # Output: False\n",
        "\n",
        "# Logical OR (or)\n",
        "# Returns True if at least one operand is True, False otherwise\n",
        "print(x > 0 or y < 5) # Output: True\n",
        "print(x > 10 or y < 5) # Output: False\n",
        "\n",
        "# Logical NOT (not)\n",
        "# Returns True if the operand is False, and False if the operand is True\n",
        "print(not (x > 0)) # Output: False\n",
        "print(not (x > 10)) # Output: True\n",
        "\n",
        "# Combining logical operators\n",
        "print((x > 0 and y < 20) or (x < 0 and y > 20)) # Output: True\n",
        "print(not (x > 0 and y < 20)) # Output: False"
      ],
      "metadata": {
        "id": "6MPPhx6hJFwd",
        "outputId": "f1c53c87-772e-4152-a59d-2337a9ee4284",
        "colab": {
          "base_uri": "https://localhost:8080/"
        }
      },
      "id": "6MPPhx6hJFwd",
      "execution_count": 22,
      "outputs": [
        {
          "output_type": "stream",
          "name": "stdout",
          "text": [
            "True\n",
            "False\n",
            "True\n",
            "False\n",
            "False\n",
            "True\n",
            "True\n",
            "False\n"
          ]
        }
      ]
    },
    {
      "cell_type": "code",
      "source": [
        "# 9.Write a python program to convert user input from string to integer, float and boolean types\n",
        "def convert_input():\n",
        "    user_input = input(\"Enter a value: \")\n",
        "\n",
        "    try:\n",
        "        # Attempt to convert to integer\n",
        "        int_value = int(user_input)\n",
        "        print(\"Integer:\", int_value, type(int_value))\n",
        "    except ValueError:\n",
        "        print(\"Not an integer\")\n",
        "\n",
        "    try:\n",
        "        # Attempt to convert to float\n",
        "        float_value = float(user_input)\n",
        "        print(\"Float:\", float_value, type(float_value))\n",
        "    except ValueError:\n",
        "        print(\"Not a float\")\n",
        "\n",
        "    # Attempt to convert to boolean\n",
        "    if user_input.lower() == \"true\":\n",
        "      bool_value = True\n",
        "      print(\"Boolean:\", bool_value, type(bool_value))\n",
        "    elif user_input.lower() == \"false\":\n",
        "      bool_value = False\n",
        "      print(\"Boolean:\", bool_value, type(bool_value))\n",
        "    else:\n",
        "      print(\"Not a boolean\")\n",
        "convert_input()"
      ],
      "metadata": {
        "id": "Fp5akMcaLrh0",
        "outputId": "958200c0-f9b2-4676-e4ee-34608babee61",
        "colab": {
          "base_uri": "https://localhost:8080/"
        }
      },
      "id": "Fp5akMcaLrh0",
      "execution_count": 23,
      "outputs": [
        {
          "output_type": "stream",
          "name": "stdout",
          "text": [
            "Enter a value: 5\n",
            "Integer: 5 <class 'int'>\n",
            "Float: 5.0 <class 'float'>\n",
            "Not a boolean\n"
          ]
        }
      ]
    },
    {
      "cell_type": "code",
      "source": [
        "# 10.Write code to demonstrate type casting with lists elements\n",
        "# Example list with mixed data types\n",
        "my_list = [\"1\", \"2\", \"3\", 4, 5.0]\n",
        "\n",
        "# Convert all elements to integers\n",
        "int_list = list(map(int, my_list))\n",
        "print(\"Integer list:\", int_list)  # Output: [1, 2, 3, 4, 5]\n",
        "\n",
        "# Convert all elements to floats\n",
        "float_list = list(map(float, my_list))\n",
        "print(\"Float list:\", float_list)  # Output: [1.0, 2.0, 3.0, 4.0, 5.0]\n",
        "\n",
        "# Convert all elements to strings\n",
        "str_list = list(map(str, my_list))\n",
        "print(\"String list:\", str_list)  # Output: ['1', '2', '3', '4', '5.0']\n",
        "\n",
        "# Convert all elements to boolean\n",
        "bool_list = list(map(bool, my_list))\n",
        "print(\"Boolean list:\", bool_list) # Output: [True, True, True, True, True]"
      ],
      "metadata": {
        "id": "vKzu3bxYNRts",
        "outputId": "6c50c5ac-a5da-4cd6-e012-5be9db7e5d02",
        "colab": {
          "base_uri": "https://localhost:8080/"
        }
      },
      "id": "vKzu3bxYNRts",
      "execution_count": 24,
      "outputs": [
        {
          "output_type": "stream",
          "name": "stdout",
          "text": [
            "Integer list: [1, 2, 3, 4, 5]\n",
            "Float list: [1.0, 2.0, 3.0, 4.0, 5.0]\n",
            "String list: ['1', '2', '3', '4', '5.0']\n",
            "Boolean list: [True, True, True, True, True]\n"
          ]
        }
      ]
    },
    {
      "cell_type": "code",
      "source": [
        "# 11.Write a program that checks if a number is positive negative or zero\n",
        "def check_number(num):\n",
        "  \"\"\"\n",
        "  Checks if a number is positive, negative, or zero.\n",
        "\n",
        "  Args:\n",
        "    num: The number to check.\n",
        "\n",
        "  Returns:\n",
        "    A string indicating whether the number is positive, negative, or zero.\n",
        "  \"\"\"\n",
        "\n",
        "  if num > 0:\n",
        "    return \"positive\"\n",
        "  elif num < 0:\n",
        "    return \"negative\"\n",
        "  else:\n",
        "    return \"zero\"\n",
        "\n",
        "\n",
        "# Get input from the user\n",
        "number = float(input(\"Enter a number: \"))\n",
        "\n",
        "# Check and print the result\n",
        "result = check_number(number)\n",
        "print(\"The number is\", result)"
      ],
      "metadata": {
        "id": "UmJveuMtOTrE",
        "outputId": "da48d45d-6ec3-4147-cb55-748f4c02e325",
        "colab": {
          "base_uri": "https://localhost:8080/"
        }
      },
      "id": "UmJveuMtOTrE",
      "execution_count": 25,
      "outputs": [
        {
          "output_type": "stream",
          "name": "stdout",
          "text": [
            "Enter a number: 10\n",
            "The number is positive\n"
          ]
        }
      ]
    },
    {
      "cell_type": "code",
      "source": [
        "# 12.Write a for loop to print numbers from 1 to 10\n",
        "for i in range(1,11):\n",
        "  print(i)"
      ],
      "metadata": {
        "id": "g-jn3Nr_POL9",
        "outputId": "d76e00dd-9f4a-4e3a-d6cf-7f946176c84b",
        "colab": {
          "base_uri": "https://localhost:8080/"
        }
      },
      "id": "g-jn3Nr_POL9",
      "execution_count": 26,
      "outputs": [
        {
          "output_type": "stream",
          "name": "stdout",
          "text": [
            "1\n",
            "2\n",
            "3\n",
            "4\n",
            "5\n",
            "6\n",
            "7\n",
            "8\n",
            "9\n",
            "10\n"
          ]
        }
      ]
    },
    {
      "cell_type": "code",
      "source": [
        "# 13.Write a python program to find the sum of all even numbers between 1 and 50\n",
        "sum_of_evens = 0\n",
        "for number in range(2, 51, 2):\n",
        "    sum_of_evens += number\n",
        "print(sum_of_evens)"
      ],
      "metadata": {
        "id": "gNukRsOsP4zZ",
        "outputId": "f645275b-54c3-4778-9a38-b56a73ffd85b",
        "colab": {
          "base_uri": "https://localhost:8080/"
        }
      },
      "id": "gNukRsOsP4zZ",
      "execution_count": 28,
      "outputs": [
        {
          "output_type": "stream",
          "name": "stdout",
          "text": [
            "650\n"
          ]
        }
      ]
    },
    {
      "cell_type": "code",
      "source": [
        "# 14.Write a program to reverse a string using a while loop\n",
        "def reverse_string(s):\n",
        "    reversed_s = \"\"\n",
        "    i = len(s) - 1\n",
        "    while i >= 0:\n",
        "        reversed_s += s[i]\n",
        "        i -= 1\n",
        "    return reversed_s\n",
        "\n",
        "# Example\n",
        "string = \"hello\"\n",
        "reversed_string = reverse_string(string)\n",
        "print(f\"Original string: {string}\")\n",
        "print(f\"Reversed string: {reversed_string}\")\n",
        "\n",
        "string = \"Python\"\n",
        "reversed_string = reverse_string(string)\n",
        "print(f\"Original string: {string}\")\n",
        "print(f\"Reversed string: {reversed_string}\")"
      ],
      "metadata": {
        "id": "DLZlkIOORL0G",
        "outputId": "6ee4e28c-e7ad-47ee-8a23-bb07c2b3f517",
        "colab": {
          "base_uri": "https://localhost:8080/"
        }
      },
      "id": "DLZlkIOORL0G",
      "execution_count": 30,
      "outputs": [
        {
          "output_type": "stream",
          "name": "stdout",
          "text": [
            "Original string: hello\n",
            "Reversed string: olleh\n",
            "Original string: Python\n",
            "Reversed string: nohtyP\n"
          ]
        }
      ]
    },
    {
      "cell_type": "code",
      "source": [
        "# 15.Write a python program to calculate the factorial of a number provided by the user using a while loop\n",
        "def factorial_while_loop(n):\n",
        "    \"\"\"Calculates the factorial of a non-negative integer using a while loop.\n",
        "\n",
        "    Args:\n",
        "        n: The non-negative integer for which to calculate the factorial.\n",
        "\n",
        "    Returns:\n",
        "        The factorial of n, or None if n is negative.\n",
        "    \"\"\"\n",
        "    if n < 0:\n",
        "        return None  # Factorial is not defined for negative numbers\n",
        "\n",
        "    factorial = 1\n",
        "    while n > 0:\n",
        "        factorial *= n\n",
        "        n -= 1\n",
        "    return factorial\n",
        "\n",
        "if __name__ == \"__main__\":\n",
        "    try:\n",
        "        num = int(input(\"Enter a non-negative integer: \"))\n",
        "        result = factorial_while_loop(num)\n",
        "        if result is not None:\n",
        "            print(f\"The factorial of {num} is {result}\")\n",
        "        else:\n",
        "            print(\"Factorial is not defined for negative numbers.\")\n",
        "    except ValueError:\n",
        "        print(\"Invalid input. Please enter an integer.\")"
      ],
      "metadata": {
        "id": "UU97tdIQR-Sw",
        "outputId": "4352e250-911e-438c-b101-ca244e54dedb",
        "colab": {
          "base_uri": "https://localhost:8080/"
        }
      },
      "id": "UU97tdIQR-Sw",
      "execution_count": 31,
      "outputs": [
        {
          "output_type": "stream",
          "name": "stdout",
          "text": [
            "Enter a non-negative integer: 7\n",
            "The factorial of 7 is 5040\n"
          ]
        }
      ]
    }
  ],
  "metadata": {
    "kernelspec": {
      "display_name": "Python 3",
      "name": "python3"
    },
    "language_info": {
      "name": "python"
    },
    "required_libs": [],
    "colab": {
      "provenance": []
    }
  },
  "nbformat": 4,
  "nbformat_minor": 5
}
